{
 "cells": [
  {
   "cell_type": "markdown",
   "metadata": {},
   "source": [
    "# Assignment 1: Regression"
   ]
  },
  {
   "cell_type": "markdown",
   "metadata": {},
   "source": [
    "This file is made for Datamining & Statistics.\n",
    "This python code shows the relation between the country happiness ranking and two dependencies that influence the ranking.\n",
    "A data set used to show the happinness per country."
   ]
  },
  {
   "cell_type": "markdown",
   "metadata": {},
   "source": [
    "## 1.1 Import all necessary libraries"
   ]
  },
  {
   "cell_type": "markdown",
   "metadata": {},
   "source": [
    "- conda install scikit-learn\n",
    "- conda install numpy\n",
    "- conda install pandas\n",
    "- conda install matplotlib"
   ]
  },
  {
   "cell_type": "code",
   "execution_count": 1,
   "metadata": {},
   "outputs": [],
   "source": [
    "import pandas as pd\n",
    "import numpy as np\n",
    "import matplotlib.pyplot as plt \n",
    "from sklearn.linear_model import LinearRegression\n",
    "from sklearn import metrics\n",
    "from sklearn.model_selection import train_test_split"
   ]
  },
  {
   "cell_type": "markdown",
   "metadata": {},
   "source": [
    "## 1.2 Load csv file"
   ]
  },
  {
   "cell_type": "markdown",
   "metadata": {},
   "source": [
    "This csv file can be found on:\n",
    "* https://www.kaggle.com/unsdsn/world-happiness \n",
    "\n",
    "This dataset can also be found in the data directory."
   ]
  },
  {
   "cell_type": "code",
   "execution_count": 2,
   "metadata": {},
   "outputs": [],
   "source": [
    "worldHappinessCSV = pd.read_csv('data/2019.csv')"
   ]
  },
  {
   "cell_type": "markdown",
   "metadata": {},
   "source": [
    "Here is a quick overview of the first rows of the csv file:\n",
    "In the assesment we will use the following columns:\n",
    " - Overall rank <b>as</b> OverAll \n",
    " - Freedom to make life choices <b>as</b> FreeChoices\n",
    " - Healthy life expectancy <b>as</b> LifeExpectancy"
   ]
  },
  {
   "cell_type": "code",
   "execution_count": 3,
   "metadata": {},
   "outputs": [
    {
     "data": {
      "text/html": [
       "<div>\n",
       "<style scoped>\n",
       "    .dataframe tbody tr th:only-of-type {\n",
       "        vertical-align: middle;\n",
       "    }\n",
       "\n",
       "    .dataframe tbody tr th {\n",
       "        vertical-align: top;\n",
       "    }\n",
       "\n",
       "    .dataframe thead th {\n",
       "        text-align: right;\n",
       "    }\n",
       "</style>\n",
       "<table border=\"1\" class=\"dataframe\">\n",
       "  <thead>\n",
       "    <tr style=\"text-align: right;\">\n",
       "      <th></th>\n",
       "      <th>Overall rank</th>\n",
       "      <th>Country or region</th>\n",
       "      <th>Score</th>\n",
       "      <th>GDP per capita</th>\n",
       "      <th>Social support</th>\n",
       "      <th>Healthy life expectancy</th>\n",
       "      <th>Freedom to make life choices</th>\n",
       "      <th>Generosity</th>\n",
       "      <th>Perceptions of corruption</th>\n",
       "    </tr>\n",
       "  </thead>\n",
       "  <tbody>\n",
       "    <tr>\n",
       "      <th>0</th>\n",
       "      <td>1</td>\n",
       "      <td>Finland</td>\n",
       "      <td>7.769</td>\n",
       "      <td>1.340</td>\n",
       "      <td>1.587</td>\n",
       "      <td>0.986</td>\n",
       "      <td>0.596</td>\n",
       "      <td>0.153</td>\n",
       "      <td>0.393</td>\n",
       "    </tr>\n",
       "    <tr>\n",
       "      <th>1</th>\n",
       "      <td>2</td>\n",
       "      <td>Denmark</td>\n",
       "      <td>7.600</td>\n",
       "      <td>1.383</td>\n",
       "      <td>1.573</td>\n",
       "      <td>0.996</td>\n",
       "      <td>0.592</td>\n",
       "      <td>0.252</td>\n",
       "      <td>0.410</td>\n",
       "    </tr>\n",
       "    <tr>\n",
       "      <th>2</th>\n",
       "      <td>3</td>\n",
       "      <td>Norway</td>\n",
       "      <td>7.554</td>\n",
       "      <td>1.488</td>\n",
       "      <td>1.582</td>\n",
       "      <td>1.028</td>\n",
       "      <td>0.603</td>\n",
       "      <td>0.271</td>\n",
       "      <td>0.341</td>\n",
       "    </tr>\n",
       "    <tr>\n",
       "      <th>3</th>\n",
       "      <td>4</td>\n",
       "      <td>Iceland</td>\n",
       "      <td>7.494</td>\n",
       "      <td>1.380</td>\n",
       "      <td>1.624</td>\n",
       "      <td>1.026</td>\n",
       "      <td>0.591</td>\n",
       "      <td>0.354</td>\n",
       "      <td>0.118</td>\n",
       "    </tr>\n",
       "    <tr>\n",
       "      <th>4</th>\n",
       "      <td>5</td>\n",
       "      <td>Netherlands</td>\n",
       "      <td>7.488</td>\n",
       "      <td>1.396</td>\n",
       "      <td>1.522</td>\n",
       "      <td>0.999</td>\n",
       "      <td>0.557</td>\n",
       "      <td>0.322</td>\n",
       "      <td>0.298</td>\n",
       "    </tr>\n",
       "  </tbody>\n",
       "</table>\n",
       "</div>"
      ],
      "text/plain": [
       "   Overall rank Country or region  Score  GDP per capita  Social support  \\\n",
       "0             1           Finland  7.769           1.340           1.587   \n",
       "1             2           Denmark  7.600           1.383           1.573   \n",
       "2             3            Norway  7.554           1.488           1.582   \n",
       "3             4           Iceland  7.494           1.380           1.624   \n",
       "4             5       Netherlands  7.488           1.396           1.522   \n",
       "\n",
       "   Healthy life expectancy  Freedom to make life choices  Generosity  \\\n",
       "0                    0.986                         0.596       0.153   \n",
       "1                    0.996                         0.592       0.252   \n",
       "2                    1.028                         0.603       0.271   \n",
       "3                    1.026                         0.591       0.354   \n",
       "4                    0.999                         0.557       0.322   \n",
       "\n",
       "   Perceptions of corruption  \n",
       "0                      0.393  \n",
       "1                      0.410  \n",
       "2                      0.341  \n",
       "3                      0.118  \n",
       "4                      0.298  "
      ]
     },
     "execution_count": 3,
     "metadata": {},
     "output_type": "execute_result"
    }
   ],
   "source": [
    "worldHappinessCSV.head()"
   ]
  },
  {
   "cell_type": "markdown",
   "metadata": {},
   "source": [
    "When the dataset is loaded, you need to specify the different columns you want to use.\n",
    "When specifying these colums, we can convert them into numpy array's this makes them easier to work with.\n",
    "We also need to reshape our column otherwhise it is not readable for our model."
   ]
  },
  {
   "cell_type": "code",
   "execution_count": 4,
   "metadata": {},
   "outputs": [],
   "source": [
    "xOverAll = worldHappinessCSV['Overall rank'].to_numpy().reshape((-1,1))\n",
    "yFreeChoices = worldHappinessCSV['Freedom to make life choices'].to_numpy().reshape((-1,1))\n",
    "yLifeExpectancy = worldHappinessCSV['Healthy life expectancy'].to_numpy().reshape((-1,1))"
   ]
  },
  {
   "cell_type": "markdown",
   "metadata": {},
   "source": [
    "## 1.3 Visualize columns in a scatter plot."
   ]
  },
  {
   "cell_type": "markdown",
   "metadata": {},
   "source": [
    "The first step we can do with the data column is to create a simple plot. This give you a visualization of the data.\n",
    "We are using a matplot for this, this matplot is used often through this assignment.\n",
    "The <b>yFreeChoices</b> column is used for this plot.\n",
    "\n",
    "When running this plot, you can see that when the overall countries ranking is getting higher, the freedom of making life choices is getting lower;"
   ]
  },
  {
   "cell_type": "code",
   "execution_count": 5,
   "metadata": {},
   "outputs": [
    {
     "name": "stdout",
     "output_type": "stream",
     "text": [
      "Table: \n",
      " x = OverAll countries ranking \n",
      " y = Freedom to make life choices in percentages\n"
     ]
    },
    {
     "data": {
      "text/plain": [
       "<matplotlib.collections.PathCollection at 0x24cd9464848>"
      ]
     },
     "execution_count": 5,
     "metadata": {},
     "output_type": "execute_result"
    },
    {
     "data": {
      "image/png": "[encoded data removed]",
      "text/plain": [
       "<Figure size 432x288 with 1 Axes>"
      ]
     },
     "metadata": {
      "needs_background": "light"
     },
     "output_type": "display_data"
    }
   ],
   "source": [
    "print('Table: \\n x = OverAll countries ranking \\n y = Freedom to make life choices in percentages')\n",
    "plt.scatter(xOverAll, yFreeChoices*100)"
   ]
  },
  {
   "cell_type": "markdown",
   "metadata": {},
   "source": [
    "We can do this also with the other column. This give you a visualization of the data.\n",
    "We are using a matplot for this, this matplot is used often through this assignment.\n",
    "The <b>yLifeExpectancy</b> column is used for this plot.\n",
    "\n",
    "When running this plot, you can see that when the overall countries ranking is getting higher, the life expectancy is getting lower;"
   ]
  },
  {
   "cell_type": "code",
   "execution_count": 6,
   "metadata": {},
   "outputs": [
    {
     "name": "stdout",
     "output_type": "stream",
     "text": [
      "Table: \n",
      " x = Over all countries ranking \n",
      " y = Healthy life expectancy in years\n"
     ]
    },
    {
     "data": {
      "text/plain": [
       "<matplotlib.collections.PathCollection at 0x24cd952f848>"
      ]
     },
     "execution_count": 6,
     "metadata": {},
     "output_type": "execute_result"
    },
    {
     "data": {
      "image/png": "[encoded data removed]",
      "text/plain": [
       "<Figure size 432x288 with 1 Axes>"
      ]
     },
     "metadata": {
      "needs_background": "light"
     },
     "output_type": "display_data"
    }
   ],
   "source": [
    "print('Table: \\n x = Over all countries ranking \\n y = Healthy life expectancy in years')\n",
    "plt.scatter(xOverAll, yLifeExpectancy*100)"
   ]
  },
  {
   "cell_type": "markdown",
   "metadata": {},
   "source": [
    "## 2. Calculate  Regression"
   ]
  },
  {
   "cell_type": "markdown",
   "metadata": {},
   "source": [
    "The linear regression equation can be done in different ways. You can do it all manually, but you also can do it with sklearn.\n",
    "Thats what we are going to do, calculate the regression with sklearn and display it in the plot."
   ]
  },
  {
   "cell_type": "markdown",
   "metadata": {},
   "source": [
    "We can create a function for calculating the regression, so we can use it more often in the future.\n",
    "\n",
    "This function works with the following steps:\n",
    "1. The first step of this function is to create a model. This model is created with the train data that has been given;\n",
    "2. When the model is made, we can do a prediction with the test data;\n",
    "3. You can calculate the coefficient with the model;\n",
    "4. You can caluclate the interception with the model;\n",
    "5. You can determine the coefficient of determination from the model. This is been done with the test data and prediction that was done earlier;\n",
    "6. Scatter the plot (optional)."
   ]
  },
  {
   "cell_type": "code",
   "execution_count": 7,
   "metadata": {},
   "outputs": [],
   "source": [
    "def calculateRegression(xTrain, xTest, yTrain, yTest, plot):\n",
    "    model = LinearRegression().fit(xTrain,yTrain)\n",
    "    yPrediction = model.predict(xTest)\n",
    "\n",
    "    coef = model.coef_[0]\n",
    "    print('The coef: ',coef[0])\n",
    "\n",
    "    intercept = model.intercept_\n",
    "    print('The intercept: ',intercept[0])\n",
    "    \n",
    "    det = metrics.r2_score(yTest, yPrediction)\n",
    "    print('Coefficient of determination: ',det)\n",
    "        \n",
    "    if(plot):\n",
    "        plt.scatter(xTest, yTest*100, color='blue')\n",
    "        plt.scatter(xTrain, yTrain*100, color='orange')\n",
    "        prediction = ( intercept + coef * xTest ) * 100\n",
    "        plt.plot(xTest, prediction, color = 'red')\n",
    "        print('\\nLegenda: \\n - Blue is the test data; \\n - Orange is the train data;\\n - Red line is the linear prediction.')"
   ]
  },
  {
   "cell_type": "markdown",
   "metadata": {},
   "source": [
    "To call this function, we only need to give the xTest, xTrain and yTest, yTrain values"
   ]
  },
  {
   "cell_type": "markdown",
   "metadata": {},
   "source": [
    "## 2.1 Calculate regression for free choices"
   ]
  },
  {
   "cell_type": "markdown",
   "metadata": {},
   "source": [
    "We can calculate the coefficient of the model with the function we created above. \n",
    "We already got our colums sorted out. But that isn't enough;\n",
    "We need to split our columns in to a test en train column, this is for a better accurancy and to get a better overview."
   ]
  },
  {
   "cell_type": "code",
   "execution_count": 8,
   "metadata": {},
   "outputs": [
    {
     "name": "stdout",
     "output_type": "stream",
     "text": [
      "The coef:  -0.0019357024436268727\n",
      "The intercept:  0.5482889227882211\n",
      "Coefficient of determination:  0.11657683219308457\n",
      "\n",
      "Legenda: \n",
      " - Blue is the test data; \n",
      " - Orange is the train data;\n",
      " - Red line is the linear prediction.\n"
     ]
    },
    {
     "data": {
      "image/png": "[encoded data removed]",
      "text/plain": [
       "<Figure size 432x288 with 1 Axes>"
      ]
     },
     "metadata": {
      "needs_background": "light"
     },
     "output_type": "display_data"
    }
   ],
   "source": [
    "xOverAll_train, xOverAll_test, yFreeChoices_train, yFreeChoices_test = train_test_split(xOverAll, yFreeChoices, test_size=0.4, random_state=101)\n",
    "calculateRegression(xOverAll_train, xOverAll_test, yFreeChoices_train, yFreeChoices_test, 1)"
   ]
  },
  {
   "cell_type": "markdown",
   "metadata": {},
   "source": [
    "So in this plot you can see the blue, orange dotes and a red line. The blue dots mean the test data, the orange dots mean the train data and the red line is the linear prediction. This red line is showing a decrease, which reflects to our earlier statement."
   ]
  },
  {
   "cell_type": "markdown",
   "metadata": {},
   "source": [
    "## 2.2  Calculate regression for healthy life expectancy"
   ]
  },
  {
   "cell_type": "markdown",
   "metadata": {},
   "source": [
    "We need to do the same with this data; \n",
    "\n",
    "We already got our colums sorted out. But that isn't enough;\n",
    "We need to split our columns in to a test en train column, this is for a better accurancy and to get a better overview."
   ]
  },
  {
   "cell_type": "code",
   "execution_count": 9,
   "metadata": {},
   "outputs": [
    {
     "name": "stdout",
     "output_type": "stream",
     "text": [
      "The coef:  -0.004246020724669374\n",
      "The intercept:  1.0479049120829242\n",
      "Coefficient of determination:  0.45869615787281404\n",
      "\n",
      "Legenda: \n",
      " - Blue is the test data; \n",
      " - Orange is the train data;\n",
      " - Red line is the linear prediction.\n"
     ]
    },
    {
     "data": {
      "image/png": "[encoded data removed]",
      "text/plain": [
       "<Figure size 432x288 with 1 Axes>"
      ]
     },
     "metadata": {
      "needs_background": "light"
     },
     "output_type": "display_data"
    }
   ],
   "source": [
    "xOverAll_train, xOverAll_test, yLifeExpectancy_train, yLifeExpectancy_test = train_test_split(xOverAll, yLifeExpectancy, test_size=0.4, random_state=101)\n",
    "calculateRegression(xOverAll_train, xOverAll_test, yLifeExpectancy_train, yLifeExpectancy_test, 1)"
   ]
  },
  {
   "cell_type": "markdown",
   "metadata": {},
   "source": [
    "So in this plot you can see the blue, orange dotes and a red line. The blue dots mean the test data, the orange dots mean the train data and the red line is the linear prediction. This red line is showing a decrease, which reflects to our earlier statement."
   ]
  },
  {
   "cell_type": "markdown",
   "metadata": {},
   "source": [
    "## 3. Multiple linear regression"
   ]
  },
  {
   "cell_type": "markdown",
   "metadata": {},
   "source": [
    "We come now to the part were we can combine muliple values. We first need to combine the values in some ycombined array.\n",
    "We do this to import again the two columns from the csv file.\n",
    "\n",
    "After the import, we need to split it into a test and train set. We can do this with an module from sklearn.\n",
    "After our test and train set we can use it in our function we created earlier."
   ]
  },
  {
   "cell_type": "code",
   "execution_count": 10,
   "metadata": {},
   "outputs": [
    {
     "name": "stdout",
     "output_type": "stream",
     "text": [
      "The coef:  -0.0019357024436268727\n",
      "The intercept:  0.5482889227882211\n",
      "Coefficient of determination:  0.28763649503294936\n"
     ]
    }
   ],
   "source": [
    "yCombined = worldHappinessCSV[['Freedom to make life choices','Healthy life expectancy']]\n",
    "xOverAll_train, xOverAll_test, y_train, y_test = train_test_split(xOverAll, yCombined, test_size=0.4, random_state=101)\n",
    "calculateRegression(xOverAll_train, xOverAll_test, y_train, y_test, 0)"
   ]
  },
  {
   "cell_type": "markdown",
   "metadata": {},
   "source": [
    "You can see that the the calculated coefficient of the model. This is not that right actually, because it contains two columns right now, instead of one.\n",
    "We need to recalculate the coefficient on a different way. \n",
    "This can be done using the following formula:\n",
    "\n",
    "\\begin{equation*}\n",
    "\\bar{r}^2=1-(1-r^2)\\frac{n-1}{n-p-1}\n",
    "\\end{equation*}\n",
    "\n",
    "Which reflects to this code:\n"
   ]
  },
  {
   "cell_type": "code",
   "execution_count": 11,
   "metadata": {},
   "outputs": [
    {
     "name": "stdout",
     "output_type": "stream",
     "text": [
      "0.2638910448673809\n"
     ]
    }
   ],
   "source": [
    "adjustedDetermination = 1-(1-0.28763649503294936) * (xOverAll_test.shape[0]-1) / (xOverAll_test.shape[0] - y_test.shape[1]-1)\n",
    "print(adjustedDetermination)"
   ]
  },
  {
   "cell_type": "markdown",
   "metadata": {},
   "source": [
    "You can see that the coefficient is smaller and more accurate with formula;"
   ]
  }
 ],
 "metadata": {
  "kernelspec": {
   "display_name": "Python 3",
   "language": "python",
   "name": "python3"
  },
  "language_info": {
   "codemirror_mode": {
    "name": "ipython",
    "version": 3
   },
   "file_extension": ".py",
   "mimetype": "text/x-python",
   "name": "python",
   "nbconvert_exporter": "python",
   "pygments_lexer": "ipython3",
   "version": "3.7.6"
  }
 },
 "nbformat": 4,
 "nbformat_minor": 4
}
