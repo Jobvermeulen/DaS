{
 "cells": [
  {
   "cell_type": "markdown",
   "metadata": {},
   "source": [
    "# Classification assignment | Statistics 3\n",
    "Author: **616184**<br>\n",
    "Student number: **616184**<br>\n",
    "Date: **29-06-2020**"
   ]
  },
  {
   "cell_type": "markdown",
   "metadata": {},
   "source": [
    "Before using this notebook, you need to install some packages. There're two options to install these, via pip install and via anaconda dashboard.\n",
    "The following packages should be installed:\n",
    "\n",
    "* numpy\n",
    "* pandas\n",
    "* scikit-learn\n",
    "* xgboost\n",
    "* matplotlib\n",
    "* ipywidgets\n",
    "* decision-tree-id3\n",
    "\n",
    "From these we will need the following libraries:"
   ]
  },
  {
   "cell_type": "code",
   "execution_count": 6,
   "metadata": {},
   "outputs": [
    {
     "name": "stderr",
     "output_type": "stream",
     "text": [
      "D:\\anaconda\\lib\\site-packages\\sklearn\\externals\\six.py:31: FutureWarning: The module is deprecated in version 0.21 and will be removed in version 0.23 since we've dropped support for Python 2.7. Please rely on the official version of six (https://pypi.org/project/six/).\n",
      "  \"(https://pypi.org/project/six/).\", FutureWarning)\n"
     ]
    }
   ],
   "source": [
    "import numpy as np\n",
    "import matplotlib.pyplot as plt \n",
    "import pandas as pd\n",
    "from sklearn.model_selection import train_test_split\n",
    "\n",
    "from sklearn import metrics\n",
    "from sklearn.metrics import confusion_matrix\n",
    "\n",
    "from sklearn.naive_bayes import CategoricalNB\n",
    "from sklearn.naive_bayes import GaussianNB\n",
    "from sklearn.naive_bayes import MultinomialNB\n",
    "\n",
    "from sklearn.naive_bayes import ComplementNB\n",
    "\n",
    "from sklearn.model_selection import GridSearchCV\n",
    "from sklearn.metrics import classification_report\n",
    "\n",
    "from sklearn.svm import SVC # \"Support vector classifier\"\n",
    "from sklearn.preprocessing import StandardScaler\n",
    "from mpl_toolkits import mplot3d\n",
    "from ipywidgets import interact, fixed\n",
    "\n",
    "from sklearn.dummy import DummyClassifier\n",
    "from sklearn.neighbors import KNeighborsClassifier\n",
    "from sklearn.tree import DecisionTreeClassifier \n",
    "from id3 import Id3Estimator\n",
    "from sklearn.ensemble import RandomForestClassifier\n",
    "from sklearn.ensemble import ExtraTreesClassifier\n",
    "\n",
    "from sklearn.discriminant_analysis import LinearDiscriminantAnalysis\n",
    "from sklearn.discriminant_analysis import QuadraticDiscriminantAnalysis\n",
    "from sklearn.linear_model import LogisticRegression\n",
    "from sklearn.ensemble import AdaBoostClassifier\n",
    "from sklearn.ensemble import GradientBoostingClassifier\n",
    "from sklearn.experimental import enable_hist_gradient_boosting\n",
    "from sklearn.ensemble import HistGradientBoostingClassifier\n",
    "from xgboost import XGBClassifier\n",
    "from sklearn.ensemble import StackingClassifier\n",
    "from sklearn.pipeline import make_pipeline\n",
    "from sklearn.svm import LinearSVC\n"
   ]
  },
  {
   "cell_type": "markdown",
   "metadata": {},
   "source": [
    "# 1. The Data\n",
    "We are going to use the datafile income_evalution from kaggle. This contains data about income from a selection of people from all over the world. We are going to use the following columns:age, workclass, education, maritual-status, relationship, race, native-country and income."
   ]
  },
  {
   "cell_type": "code",
   "execution_count": 7,
   "metadata": {},
   "outputs": [],
   "source": [
    "# Load income csv with the pd.read_csv\n",
    "incomeCSV = pd.read_csv('data/income_evaluation.csv',',', names=[\"age\", \"workclass\", \"fnlwgt\", \"education\", \"education-num\", \"marital-status\", \"occupation\", \"relationship\", \"race\", \"sex\", \"capital-gain\", \"capital-loss\", \"hours-per-week\", \"native-country\", \"income\"])"
   ]
  },
  {
   "cell_type": "markdown",
   "metadata": {},
   "source": [
    "Here's a quick look at the data:"
   ]
  },
  {
   "cell_type": "code",
   "execution_count": 8,
   "metadata": {},
   "outputs": [
    {
     "data": {
      "text/html": [
       "<div>\n",
       "<style scoped>\n",
       "    .dataframe tbody tr th:only-of-type {\n",
       "        vertical-align: middle;\n",
       "    }\n",
       "\n",
       "    .dataframe tbody tr th {\n",
       "        vertical-align: top;\n",
       "    }\n",
       "\n",
       "    .dataframe thead th {\n",
       "        text-align: right;\n",
       "    }\n",
       "</style>\n",
       "<table border=\"1\" class=\"dataframe\">\n",
       "  <thead>\n",
       "    <tr style=\"text-align: right;\">\n",
       "      <th></th>\n",
       "      <th>age</th>\n",
       "      <th>workclass</th>\n",
       "      <th>fnlwgt</th>\n",
       "      <th>education</th>\n",
       "      <th>education-num</th>\n",
       "      <th>marital-status</th>\n",
       "      <th>occupation</th>\n",
       "      <th>relationship</th>\n",
       "      <th>race</th>\n",
       "      <th>sex</th>\n",
       "      <th>capital-gain</th>\n",
       "      <th>capital-loss</th>\n",
       "      <th>hours-per-week</th>\n",
       "      <th>native-country</th>\n",
       "      <th>income</th>\n",
       "    </tr>\n",
       "  </thead>\n",
       "  <tbody>\n",
       "    <tr>\n",
       "      <th>0</th>\n",
       "      <td>39</td>\n",
       "      <td>State-gov</td>\n",
       "      <td>77516</td>\n",
       "      <td>Bachelors</td>\n",
       "      <td>13</td>\n",
       "      <td>Never-married</td>\n",
       "      <td>Adm-clerical</td>\n",
       "      <td>Not-in-family</td>\n",
       "      <td>White</td>\n",
       "      <td>Male</td>\n",
       "      <td>2174</td>\n",
       "      <td>0</td>\n",
       "      <td>40</td>\n",
       "      <td>United-States</td>\n",
       "      <td>&lt;=50K</td>\n",
       "    </tr>\n",
       "    <tr>\n",
       "      <th>1</th>\n",
       "      <td>50</td>\n",
       "      <td>Self-emp-not-inc</td>\n",
       "      <td>83311</td>\n",
       "      <td>Bachelors</td>\n",
       "      <td>13</td>\n",
       "      <td>Married-civ-spouse</td>\n",
       "      <td>Exec-managerial</td>\n",
       "      <td>Husband</td>\n",
       "      <td>White</td>\n",
       "      <td>Male</td>\n",
       "      <td>0</td>\n",
       "      <td>0</td>\n",
       "      <td>13</td>\n",
       "      <td>United-States</td>\n",
       "      <td>&lt;=50K</td>\n",
       "    </tr>\n",
       "    <tr>\n",
       "      <th>2</th>\n",
       "      <td>38</td>\n",
       "      <td>Private</td>\n",
       "      <td>215646</td>\n",
       "      <td>HS-grad</td>\n",
       "      <td>9</td>\n",
       "      <td>Divorced</td>\n",
       "      <td>Handlers-cleaners</td>\n",
       "      <td>Not-in-family</td>\n",
       "      <td>White</td>\n",
       "      <td>Male</td>\n",
       "      <td>0</td>\n",
       "      <td>0</td>\n",
       "      <td>40</td>\n",
       "      <td>United-States</td>\n",
       "      <td>&lt;=50K</td>\n",
       "    </tr>\n",
       "    <tr>\n",
       "      <th>3</th>\n",
       "      <td>53</td>\n",
       "      <td>Private</td>\n",
       "      <td>234721</td>\n",
       "      <td>11th</td>\n",
       "      <td>7</td>\n",
       "      <td>Married-civ-spouse</td>\n",
       "      <td>Handlers-cleaners</td>\n",
       "      <td>Husband</td>\n",
       "      <td>Black</td>\n",
       "      <td>Male</td>\n",
       "      <td>0</td>\n",
       "      <td>0</td>\n",
       "      <td>40</td>\n",
       "      <td>United-States</td>\n",
       "      <td>&lt;=50K</td>\n",
       "    </tr>\n",
       "    <tr>\n",
       "      <th>4</th>\n",
       "      <td>28</td>\n",
       "      <td>Private</td>\n",
       "      <td>338409</td>\n",
       "      <td>Bachelors</td>\n",
       "      <td>13</td>\n",
       "      <td>Married-civ-spouse</td>\n",
       "      <td>Prof-specialty</td>\n",
       "      <td>Wife</td>\n",
       "      <td>Black</td>\n",
       "      <td>Female</td>\n",
       "      <td>0</td>\n",
       "      <td>0</td>\n",
       "      <td>40</td>\n",
       "      <td>Cuba</td>\n",
       "      <td>&lt;=50K</td>\n",
       "    </tr>\n",
       "  </tbody>\n",
       "</table>\n",
       "</div>"
      ],
      "text/plain": [
       "   age          workclass  fnlwgt   education  education-num  \\\n",
       "0   39          State-gov   77516   Bachelors             13   \n",
       "1   50   Self-emp-not-inc   83311   Bachelors             13   \n",
       "2   38            Private  215646     HS-grad              9   \n",
       "3   53            Private  234721        11th              7   \n",
       "4   28            Private  338409   Bachelors             13   \n",
       "\n",
       "        marital-status          occupation    relationship    race      sex  \\\n",
       "0        Never-married        Adm-clerical   Not-in-family   White     Male   \n",
       "1   Married-civ-spouse     Exec-managerial         Husband   White     Male   \n",
       "2             Divorced   Handlers-cleaners   Not-in-family   White     Male   \n",
       "3   Married-civ-spouse   Handlers-cleaners         Husband   Black     Male   \n",
       "4   Married-civ-spouse      Prof-specialty            Wife   Black   Female   \n",
       "\n",
       "   capital-gain  capital-loss  hours-per-week  native-country  income  \n",
       "0          2174             0              40   United-States   <=50K  \n",
       "1             0             0              13   United-States   <=50K  \n",
       "2             0             0              40   United-States   <=50K  \n",
       "3             0             0              40   United-States   <=50K  \n",
       "4             0             0              40            Cuba   <=50K  "
      ]
     },
     "execution_count": 8,
     "metadata": {},
     "output_type": "execute_result"
    }
   ],
   "source": [
    "incomeCSV.head(5)"
   ]
  },
  {
   "cell_type": "markdown",
   "metadata": {},
   "source": [
    "We are going to use some columns. We divide these columns in the x and y. In the x columns come all the indepent variables. In the y column i want the depent varaible. In this case, all of the the x variables are age, workclass, education, maritual-status, relationship, race, native-country. And the y variable is income. \n",
    "\n",
    "Some of the x varaibles are non numeric values. Therefore we need to categorize these, to create numeric categories.\n",
    "We do this via pd.categorical(incomeCSV['name of value']). &\n",
    "incomeCSV['name of value'].cat.codes"
   ]
  },
  {
   "cell_type": "code",
   "execution_count": 9,
   "metadata": {},
   "outputs": [],
   "source": [
    "# code that returns the different categories in the y variable.\n",
    "incomeCSV[\"workclass\"] = pd.Categorical(incomeCSV[\"workclass\"])\n",
    "incomeCSV[\"education\"] = pd.Categorical(incomeCSV[\"education\"])\n",
    "incomeCSV[\"marital-status\"] = pd.Categorical(incomeCSV[\"marital-status\"])\n",
    "incomeCSV[\"relationship\"] = pd.Categorical(incomeCSV[\"relationship\"])\n",
    "incomeCSV[\"race\"] = pd.Categorical(incomeCSV[\"race\"])\n",
    "incomeCSV['native-country'] = pd.Categorical(incomeCSV['native-country'])\n",
    "incomeCSV[\"income\"] = pd.Categorical(incomeCSV[\"income\"])\n",
    "\n",
    "incomeCSV['workclass'] = incomeCSV[\"workclass\"].cat.codes\n",
    "incomeCSV['education'] = incomeCSV[\"education\"].cat.codes\n",
    "incomeCSV['marital-status'] = incomeCSV[\"marital-status\"].cat.codes\n",
    "incomeCSV['relationship'] = incomeCSV[\"relationship\"].cat.codes\n",
    "incomeCSV['race'] =  incomeCSV[\"race\"].cat.codes\n",
    "incomeCSV['native-country'] = incomeCSV['native-country'].cat.codes\n",
    "incomeCSV['income'] = incomeCSV['income'].cat.codes\n",
    "\n",
    "X = incomeCSV[[\"age\",\"workclass\",\"education\",\"marital-status\",\"relationship\",\"race\",\"native-country\"]]\n",
    "Y = incomeCSV[\"income\"]"
   ]
  },
  {
   "cell_type": "markdown",
   "metadata": {},
   "source": [
    "To train and test our model, we need to create train and test data.\n",
    "We do this by splitting the data via train_test_split() function."
   ]
  },
  {
   "cell_type": "code",
   "execution_count": 10,
   "metadata": {},
   "outputs": [],
   "source": [
    "# code to split data in training and testing\n",
    "X_train, X_test, Y_train, Y_test = train_test_split(X, Y, test_size=0.2,random_state=109)"
   ]
  },
  {
   "cell_type": "code",
   "execution_count": 11,
   "metadata": {},
   "outputs": [
    {
     "name": "stdout",
     "output_type": "stream",
     "text": [
      "Original size:  32561\n",
      "Predicted test set size (40%):  6512.200000000001\n",
      "Actual test set size 6513\n"
     ]
    }
   ],
   "source": [
    "print(\"Original size: \", X.shape[0])\n",
    "print(\"Predicted test set size (40%): \", 0.2*X.shape[0])\n",
    "print(\"Actual test set size\", X_test.shape[0])"
   ]
  },
  {
   "cell_type": "markdown",
   "metadata": {},
   "source": [
    "# 2. The Basic Classification Models\n",
    "\n",
    "To predict some values we're going to create some predictions on some dummy classifiers. This creates a baseline we were can reflect to."
   ]
  },
  {
   "cell_type": "markdown",
   "metadata": {},
   "source": [
    "We use multiple classifiers,\n",
    "- most_frequent\n",
    "- stratified\n",
    "- prior\n",
    "- uniform"
   ]
  },
  {
   "cell_type": "code",
   "execution_count": 12,
   "metadata": {},
   "outputs": [
    {
     "name": "stdout",
     "output_type": "stream",
     "text": [
      "Dummy classifier most frequent:\n",
      "accuracy: 0.7669276830953478\n",
      "confusion matrix: [[4995    0]\n",
      " [1518    0]]\n",
      "\n",
      "Dummy classifier stratified:\n",
      "accuracy: 0.63841547673883\n",
      "confusion matrix: [[3798 1197]\n",
      " [1158  360]]\n",
      "\n",
      "Dummy classifier prior:\n",
      "accuracy: 0.7669276830953478\n",
      "confusion matrix: [[4995    0]\n",
      " [1518    0]]\n",
      "\n",
      "Dummy classifier uniform:\n",
      "accuracy: 0.4956241363426992\n",
      "confusion matrix: [[2487 2508]\n",
      " [ 777  741]]\n"
     ]
    }
   ],
   "source": [
    "scaler = StandardScaler()\n",
    "scaler.fit(X_train)\n",
    "\n",
    "X_trainScaled = scaler.transform(X_train)\n",
    "X_testScaled = scaler.transform(X_test)\n",
    "\n",
    "print('Dummy classifier most frequent:')\n",
    "dumMF = DummyClassifier(strategy='most_frequent')\n",
    "dumMF = dumMF.fit(X_trainScaled, Y_train)\n",
    "Y_pred = dumMF.predict(X_testScaled)\n",
    "print('accuracy:',metrics.accuracy_score(Y_test, Y_pred))\n",
    "print('confusion matrix:',confusion_matrix(Y_test, Y_pred))\n",
    "\n",
    "print('\\nDummy classifier stratified:')\n",
    "# Dummy classifier with stratified method\n",
    "dumSrat = DummyClassifier(strategy=\"stratified\")\n",
    "dumSrat = dumSrat.fit(X_trainScaled, Y_train)\n",
    "Y_pred = dumSrat.predict(X_testScaled)\n",
    "print('accuracy:',metrics.accuracy_score(Y_test, Y_pred))\n",
    "print('confusion matrix:',confusion_matrix(Y_test, Y_pred))\n",
    "\n",
    "print('\\nDummy classifier prior:')\n",
    "dumPrior = DummyClassifier(strategy=\"prior\")\n",
    "dumPrior.fit(X_trainScaled, Y_train)\n",
    "Y_pred = dumPrior.predict(X_testScaled)\n",
    "print('accuracy:',metrics.accuracy_score(Y_test, Y_pred))\n",
    "print('confusion matrix:',confusion_matrix(Y_test, Y_pred))\n",
    "\n",
    "print('\\nDummy classifier uniform:')\n",
    "dumUni = DummyClassifier(strategy=\"uniform\")\n",
    "dumUni.fit(X_trainScaled, Y_train)\n",
    "Y_pred = dumUni.predict(X_testScaled)\n",
    "print('accuracy:',metrics.accuracy_score(Y_test, Y_pred))\n",
    "print('confusion matrix:',confusion_matrix(Y_test, Y_pred))"
   ]
  },
  {
   "cell_type": "markdown",
   "metadata": {},
   "source": [
    "**\\<explain all the results. What do the numbers mean?>**"
   ]
  },
  {
   "cell_type": "markdown",
   "metadata": {},
   "source": [
    "So, those are our 'baseline'. A model should be dable to at least outperform these.\n",
    "\n",
    "Lets dive in..."
   ]
  },
  {
   "cell_type": "markdown",
   "metadata": {},
   "source": [
    "## 2.1. Naive Bayes\n",
    "\n",
    "The first model discussed was the Naive Bayes model. "
   ]
  },
  {
   "cell_type": "markdown",
   "metadata": {},
   "source": [
    "Lets create and fit this model:"
   ]
  },
  {
   "cell_type": "code",
   "execution_count": 13,
   "metadata": {},
   "outputs": [
    {
     "data": {
      "text/plain": [
       "GaussianNB(priors=None, var_smoothing=1e-09)"
      ]
     },
     "execution_count": 13,
     "metadata": {},
     "output_type": "execute_result"
    }
   ],
   "source": [
    "gaussNB = GaussianNB()\n",
    "gaussNB.fit(X_train, Y_train)"
   ]
  },
  {
   "cell_type": "markdown",
   "metadata": {},
   "source": [
    "Now to measure its performance:"
   ]
  },
  {
   "cell_type": "code",
   "execution_count": 14,
   "metadata": {},
   "outputs": [
    {
     "name": "stdout",
     "output_type": "stream",
     "text": [
      "accuracy score: 0.7762935667127284\n",
      "confusion matrix: [[4087  908]\n",
      " [ 549  969]]\n"
     ]
    }
   ],
   "source": [
    "# code to show its accuracy score AND confusion matrix.\n",
    "Y_pred = gaussNB.predict(X_test)\n",
    "print('accuracy score:', metrics.accuracy_score(Y_test, Y_pred))\n",
    "print('confusion matrix:', confusion_matrix(Y_test, Y_pred))"
   ]
  },
  {
   "cell_type": "markdown",
   "metadata": {},
   "source": [
    "This model allready outperforms the dummy classifier"
   ]
  },
  {
   "cell_type": "markdown",
   "metadata": {},
   "source": [
    "Lets also have a look at what a prediction would be. We can test this with the x_test dataset. The outcome shows us how much percent was wrong during the prediction and how much was right. [[wrong percentage , right percentage ],"
   ]
  },
  {
   "cell_type": "code",
   "execution_count": 15,
   "metadata": {},
   "outputs": [
    {
     "data": {
      "text/plain": [
       "array([[0.2699136 , 0.7300864 ],\n",
       "       [0.95677576, 0.04322424],\n",
       "       [0.42610518, 0.57389482],\n",
       "       ...,\n",
       "       [0.21278805, 0.78721195],\n",
       "       [0.82428101, 0.17571899],\n",
       "       [0.60099442, 0.39900558]])"
      ]
     },
     "execution_count": 15,
     "metadata": {},
     "output_type": "execute_result"
    }
   ],
   "source": [
    "gaussNB.predict_proba(X_test)"
   ]
  },
  {
   "cell_type": "markdown",
   "metadata": {},
   "source": [
    "That's about it for NB. A nice thing about NB is that it doesn't really require any parameters. Lets look at our next technique."
   ]
  },
  {
   "cell_type": "markdown",
   "metadata": {},
   "source": [
    "## 2.2. Support Vector Machines\n",
    "The second model discussed were Support Vector Machines. There is a plural here, because we can use different kernels."
   ]
  },
  {
   "cell_type": "markdown",
   "metadata": {},
   "source": [
    "The basic kernel is the linear one, so we'll attempt that first:"
   ]
  },
  {
   "cell_type": "code",
   "execution_count": 16,
   "metadata": {},
   "outputs": [
    {
     "name": "stdout",
     "output_type": "stream",
     "text": [
      "accuracy score: 0.7669276830953478\n",
      "matrix confusion: [[4995    0]\n",
      " [1518    0]]\n"
     ]
    }
   ],
   "source": [
    "SVMLIN = SVC(kernel='linear')\n",
    "SVMLIN.fit(X_train, Y_train)\n",
    "Y_pred = SVMLIN.predict(X_test)\n",
    "\n",
    "print('accuracy score:',metrics.accuracy_score(Y_test, Y_pred))\n",
    "print('matrix confusion:',confusion_matrix(Y_test, Y_pred))"
   ]
  },
  {
   "cell_type": "markdown",
   "metadata": {},
   "source": [
    "**\\<explain all the results. What do the numbers mean? How is this compared to the dummy classifiers, and the NB?>**"
   ]
  },
  {
   "cell_type": "markdown",
   "metadata": {},
   "source": [
    "We can use the same Support Vector Machines model but with a different kernel. We are using the rbf kernel, poly kernel and sigmoid kernel."
   ]
  },
  {
   "cell_type": "code",
   "execution_count": 17,
   "metadata": {},
   "outputs": [
    {
     "name": "stdout",
     "output_type": "stream",
     "text": [
      "svc with rbf kernel\n",
      "accuracy score: 0.7669276830953478\n",
      "matrix confusion: [[4995    0]\n",
      " [1518    0]]\n",
      "\n",
      "scv with poly kernel\n",
      "accuracy score: 0.7669276830953478\n",
      "matrix confusion: [[4995    0]\n",
      " [1518    0]]\n",
      "\n",
      "scv with sigmoid kernel\n",
      "accuracy score: 0.5641025641025641\n",
      "matrix confusion: [[3567 1428]\n",
      " [1411  107]]\n"
     ]
    }
   ],
   "source": [
    "print('svc with rbf kernel')\n",
    "SVMRBF = SVC(kernel='rbf')\n",
    "SVMRBF.fit(X_train, Y_train)\n",
    "Y_pred = SVMRBF.predict(X_test)\n",
    "print('accuracy score:',metrics.accuracy_score(Y_test, Y_pred))\n",
    "print('matrix confusion:',confusion_matrix(Y_test, Y_pred))\n",
    "\n",
    "print('\\nscv with poly kernel')\n",
    "SVMPOLY = SVC(kernel='poly')\n",
    "SVMPOLY.fit(X_train, Y_train)\n",
    "Y_pred = SVMPOLY.predict(X_test)\n",
    "print('accuracy score:',metrics.accuracy_score(Y_test, Y_pred))\n",
    "print('matrix confusion:',confusion_matrix(Y_test, Y_pred))\n",
    "\n",
    "print('\\nscv with sigmoid kernel')\n",
    "SVMSIGM = SVC(kernel='sigmoid')\n",
    "SVMSIGM.fit(X_train, Y_train)\n",
    "Y_pred = SVMSIGM.predict(X_test)\n",
    "print('accuracy score:',metrics.accuracy_score(Y_test, Y_pred))\n",
    "print('matrix confusion:',confusion_matrix(Y_test, Y_pred))"
   ]
  },
  {
   "cell_type": "markdown",
   "metadata": {},
   "source": [
    "As you can see the top two kernels have excactly the same accuracy values (better than the dummy's). But the simoid kernel is a bit on the low side. \n",
    "\n",
    "Allright, lets move on to the third technique..."
   ]
  },
  {
   "cell_type": "markdown",
   "metadata": {},
   "source": [
    "## 2.3. K-Nearest Neighbors\n",
    "The third technique is the K-Nearest Neighbors (KNN). "
   ]
  },
  {
   "cell_type": "markdown",
   "metadata": {},
   "source": [
    "To use this we need to do some additional steps.\n",
    "\n",
    "First we need to normalize our x variables. We do this via the standardScaler.\n",
    "This model requires a value, the n_neighbors. We need to set this, therefore we use the value '2'. Later we calculate the value by the error rate."
   ]
  },
  {
   "cell_type": "code",
   "execution_count": 18,
   "metadata": {},
   "outputs": [
    {
     "name": "stdout",
     "output_type": "stream",
     "text": [
      "accuracy score: 0.7970213419315215\n",
      "confusion matrix: [[4668  327]\n",
      " [ 995  523]]\n"
     ]
    }
   ],
   "source": [
    "scaler = StandardScaler()\n",
    "scaler.fit(X_train)\n",
    "\n",
    "# Convert the train and test X values, using the same scaler (so based on the X_train)\n",
    "X_trainScaled = scaler.transform(X_train)\n",
    "X_testScaled = scaler.transform(X_test)\n",
    "\n",
    "knn = KNeighborsClassifier(n_neighbors=2)\n",
    "knn.fit(X_trainScaled, Y_train)\n",
    "Y_pred = knn.predict(X_testScaled)\n",
    "print('accuracy score:', metrics.accuracy_score(Y_test, Y_pred))\n",
    "print('confusion matrix:', confusion_matrix(Y_test, Y_pred))"
   ]
  },
  {
   "cell_type": "markdown",
   "metadata": {},
   "source": [
    "Second we need to determine how many neighbors (k) we want. To do this we'll visualize the results using different values for k."
   ]
  },
  {
   "cell_type": "code",
   "execution_count": 19,
   "metadata": {},
   "outputs": [
    {
     "data": {
      "text/plain": [
       "Text(0, 0.5, 'Error Rate')"
      ]
     },
     "execution_count": 19,
     "metadata": {},
     "output_type": "execute_result"
    },
    {
     "data": {
      "image/png": "[encoded data removed]",
      "text/plain": [
       "<Figure size 720x432 with 1 Axes>"
      ]
     },
     "metadata": {
      "needs_background": "light"
     },
     "output_type": "display_data"
    }
   ],
   "source": [
    "# Code to create the graph with Error Rate vs. K-values.\n",
    "error_rate=[]\n",
    "for i in range(1,100):\n",
    "    knn = KNeighborsClassifier(n_neighbors=i)\n",
    "    knn.fit(X_trainScaled, Y_train)\n",
    "    pred_i = knn.predict(X_testScaled)\n",
    "    error_rate.append(np.mean(pred_i != Y_test))\n",
    "    \n",
    "plt.figure(figsize=(10,6))\n",
    "plt.plot(range(1,100),error_rate,color='blue', linestyle='dashed', marker='o',\n",
    "         markerfacecolor='red', markersize=10)\n",
    "plt.title('Error Rate vs. K Value')\n",
    "plt.xlabel('K')\n",
    "plt.ylabel('Error Rate')"
   ]
  },
  {
   "cell_type": "markdown",
   "metadata": {},
   "source": [
    "You can see that during this graph, the error rate decreases (which is good), but also increases (which is not to good). We need the lowest error rate, this is 79. With this error rate we get the highest accuracy."
   ]
  },
  {
   "cell_type": "markdown",
   "metadata": {},
   "source": [
    "Now that we know what we want k to be, we can create the model. With as n-neighbors as 79;"
   ]
  },
  {
   "cell_type": "code",
   "execution_count": 20,
   "metadata": {},
   "outputs": [
    {
     "name": "stdout",
     "output_type": "stream",
     "text": [
      "accuracy score: 0.8217411331183786\n",
      "confusion matrix: [[4583  412]\n",
      " [ 749  769]]\n"
     ]
    }
   ],
   "source": [
    "# code to create the model with the selected k\n",
    "# Setup and fit the model (we use the same data as before)\n",
    "\n",
    "knn = KNeighborsClassifier(n_neighbors=79)\n",
    "knn.fit(X_trainScaled, Y_train)\n",
    "Y_pred = knn.predict(X_testScaled)\n",
    "print('accuracy score:', metrics.accuracy_score(Y_test, Y_pred))\n",
    "print('confusion matrix:', confusion_matrix(Y_test, Y_pred))"
   ]
  },
  {
   "cell_type": "markdown",
   "metadata": {},
   "source": [
    "You can see that this accuracy is 82 percent. This is much higher than our dummy classifiers. The reason behind this is we choose the right amount of neighbours. This models is customized for our dataset."
   ]
  },
  {
   "cell_type": "markdown",
   "metadata": {},
   "source": [
    "One more basic technique to go."
   ]
  },
  {
   "cell_type": "markdown",
   "metadata": {},
   "source": [
    "## 2.4. Decision Trees\n",
    "The decision trees are also a way to create a model."
   ]
  },
  {
   "cell_type": "markdown",
   "metadata": {},
   "source": [
    "**\\<explain briefly in your own words how a Decision Tree method works>**"
   ]
  },
  {
   "cell_type": "markdown",
   "metadata": {},
   "source": [
    "We are testing the following models:\n",
    "\n",
    "* ID3 (or entropy with sklearn)\n",
    "* Gini\n",
    "* Random Forest\n",
    "* Extra trees\n"
   ]
  },
  {
   "cell_type": "code",
   "execution_count": 21,
   "metadata": {},
   "outputs": [
    {
     "name": "stdout",
     "output_type": "stream",
     "text": [
      "0.799324428066943\n",
      "[[4442  553]\n",
      " [ 754  764]]\n"
     ]
    }
   ],
   "source": [
    "# DecisionTreeClassifier package with entropy criterion\n",
    "\n",
    "entropy = DecisionTreeClassifier(criterion = \"entropy\")\n",
    "entropy.fit(X_trainScaled,Y_train)\n",
    "Y_pred = entropy.predict(X_testScaled)\n",
    "print(metrics.accuracy_score(Y_test, Y_pred))\n",
    "print(confusion_matrix(Y_test, Y_pred))"
   ]
  },
  {
   "cell_type": "markdown",
   "metadata": {},
   "source": [
    "This is already one of the higher accuracy values. But not as high as k-nearest neighbour."
   ]
  },
  {
   "cell_type": "code",
   "execution_count": 22,
   "metadata": {},
   "outputs": [
    {
     "name": "stdout",
     "output_type": "stream",
     "text": [
      "0.7924151696606786\n",
      "[[4284  711]\n",
      " [ 641  877]]\n"
     ]
    }
   ],
   "source": [
    "#Id3 package\n",
    "\n",
    "id3 = Id3Estimator()\n",
    "id3.fit(X_trainScaled, Y_train)\n",
    "Y_pred = id3.predict(X_testScaled)\n",
    "print(metrics.accuracy_score(Y_test, Y_pred))\n",
    "print(confusion_matrix(Y_test, Y_pred))"
   ]
  },
  {
   "cell_type": "markdown",
   "metadata": {},
   "source": [
    "A bit lower, but the values look quite the same as the descisiontreeclassifier with the entropy criterion"
   ]
  },
  {
   "cell_type": "code",
   "execution_count": 23,
   "metadata": {},
   "outputs": [
    {
     "name": "stdout",
     "output_type": "stream",
     "text": [
      "0.7961001074773529\n",
      "[[4425  570]\n",
      " [ 758  760]]\n"
     ]
    }
   ],
   "source": [
    "# DecisionTreeClassifier package with gini criterion\n",
    "\n",
    "gini = DecisionTreeClassifier(criterion = \"gini\")\n",
    "gini.fit(X_trainScaled,Y_train)\n",
    "Y_pred = gini.predict(X_testScaled)\n",
    "print(metrics.accuracy_score(Y_test, Y_pred))\n",
    "print(confusion_matrix(Y_test, Y_pred))"
   ]
  },
  {
   "cell_type": "markdown",
   "metadata": {},
   "source": [
    "This one is really close to the id3estimator, but not as high as the k-nearest neighbour."
   ]
  },
  {
   "cell_type": "markdown",
   "metadata": {},
   "source": [
    "**\\<explain all the results. What do the numbers mean? How is this compared to the dummy classifiers, the NB, the SVM kernels, and the knn?>**"
   ]
  },
  {
   "cell_type": "code",
   "execution_count": 24,
   "metadata": {},
   "outputs": [
    {
     "name": "stdout",
     "output_type": "stream",
     "text": [
      "0.8134500230308613\n",
      "[[4478  517]\n",
      " [ 698  820]]\n"
     ]
    }
   ],
   "source": [
    "# RandomForestClassifier package\n",
    "\n",
    "RandomForest = RandomForestClassifier(random_state=0)\n",
    "RandomForestModel = RandomForest.fit(X_trainScaled, Y_train)\n",
    "Y_pred = RandomForestModel.predict(X_testScaled)\n",
    "print(metrics.accuracy_score(Y_test, Y_pred))\n",
    "print(confusion_matrix(Y_test, Y_pred))"
   ]
  },
  {
   "cell_type": "markdown",
   "metadata": {},
   "source": [
    "The random forest has a really hight accuracy, but not as high as the k-nearest neighbour."
   ]
  },
  {
   "cell_type": "code",
   "execution_count": 25,
   "metadata": {},
   "outputs": [
    {
     "name": "stdout",
     "output_type": "stream",
     "text": [
      "0.8122217104253032\n",
      "[[4507  488]\n",
      " [ 735  783]]\n"
     ]
    }
   ],
   "source": [
    "# Extremly Random Forest (a.k.a. Extra trees) package\n",
    "\n",
    "ExtremeRandomForest = ExtraTreesClassifier(random_state=0)\n",
    "ExtremeRandomForestModel = ExtremeRandomForest.fit(X_trainScaled, Y_train)\n",
    "Y_pred = ExtremeRandomForestModel.predict(X_testScaled)\n",
    "print(metrics.accuracy_score(Y_test, Y_pred))\n",
    "print(confusion_matrix(Y_test, Y_pred))"
   ]
  },
  {
   "cell_type": "markdown",
   "metadata": {},
   "source": [
    "This one even lower than the one we tried earlier, but has a good accuracy."
   ]
  },
  {
   "cell_type": "markdown",
   "metadata": {},
   "source": [
    "## 2.5. Other Models\n",
    "Now we test some other models that also exists. \n",
    "We do this to get even an higher accuracy than the k-nearest neighbour with 82%.\n",
    "\n",
    "* Linear Discriminant Analysis\n",
    "* Quadratic Discriminant Analysis\n",
    "* Logistic Regression Classifier\n",
    "* Multinomial Logistic Regression Classification\n",
    "* Adaptive Boosting\n",
    "* Gradient Boosting\n",
    "* Histogram Gradient Boosting\n",
    "* XGBoost\n",
    "* Stacking\n"
   ]
  },
  {
   "cell_type": "code",
   "execution_count": 26,
   "metadata": {},
   "outputs": [
    {
     "name": "stdout",
     "output_type": "stream",
     "text": [
      "\n",
      "Linear Discriminant Analysis\n",
      "Accuracy score:  0.7557193305696299\n",
      "Confusion matrix:  [[4827  168]\n",
      " [1423   95]]\n",
      "\n",
      "Quadratic Discriminant Analysis\n",
      "\n",
      "Logistic Regression Classification\n",
      "Accuracy score:  0.7560264087210194\n",
      "Confusion matrix:  [[4813  182]\n",
      " [1407  111]]\n",
      "\n",
      "Multinomial Logistic Regression Classification\n",
      "Accuracy score:  0.7560264087210194\n",
      "Confusion matrix:  [[4813  182]\n",
      " [1407  111]]\n",
      "\n",
      "AdaBoost\n",
      "Accuracy score:  0.8281897742975587\n",
      "Confusion matrix:  [[4563  432]\n",
      " [ 687  831]]\n",
      "\n",
      "Gradient Boosting\n",
      "Accuracy score:  0.8321817902656226\n",
      "Confusion matrix:  [[4581  414]\n",
      " [ 679  839]]\n",
      "\n",
      "XGBoost\n",
      "Accuracy score:  0.8341777982496545\n",
      "Confusion matrix:  [[4566  429]\n",
      " [ 651  867]]\n",
      "\n",
      "Stacking\n"
     ]
    },
    {
     "name": "stderr",
     "output_type": "stream",
     "text": [
      "D:\\anaconda\\lib\\site-packages\\sklearn\\svm\\_base.py:947: ConvergenceWarning: Liblinear failed to converge, increase the number of iterations.\n",
      "  \"the number of iterations.\", ConvergenceWarning)\n",
      "D:\\anaconda\\lib\\site-packages\\sklearn\\svm\\_base.py:947: ConvergenceWarning: Liblinear failed to converge, increase the number of iterations.\n",
      "  \"the number of iterations.\", ConvergenceWarning)\n",
      "D:\\anaconda\\lib\\site-packages\\sklearn\\svm\\_base.py:947: ConvergenceWarning: Liblinear failed to converge, increase the number of iterations.\n",
      "  \"the number of iterations.\", ConvergenceWarning)\n"
     ]
    },
    {
     "name": "stdout",
     "output_type": "stream",
     "text": [
      "Accuracy score:  0.7945647167204053\n",
      "Confusion matrix:  [[4570  425]\n",
      " [ 913  605]]\n"
     ]
    }
   ],
   "source": [
    "# code to create the models, fit the data, and show its accuracy score (the confusion matrix is here optional).\n",
    "# make sure to print some text between to indicate which result belongs to which model.\n",
    "print(\"\\nLinear Discriminant Analysis\")\n",
    "LinearDiscriminant = LinearDiscriminantAnalysis()\n",
    "LinearDiscriminantModel=LinearDiscriminant.fit(X_trainScaled, Y_train)\n",
    "Y_pred = LinearDiscriminantModel.predict(X_testScaled)\n",
    "print(\"Accuracy score: \",metrics.accuracy_score(Y_test, Y_pred))\n",
    "print(\"Confusion matrix: \",confusion_matrix(Y_test, Y_pred))\n",
    "\n",
    "print(\"\\nQuadratic Discriminant Analysis\")\n",
    "QuadraticDiscriminant = QuadraticDiscriminantAnalysis()\n",
    "QuadraticDiscriminantModel=QuadraticDiscriminant.fit(X_trainScaled, Y_train)\n",
    "Y_pred= QuadraticDiscriminantModel.predict(X_testScaled)\n",
    "\n",
    "print(\"\\nLogistic Regression Classification\")\n",
    "LogisticRegress = LogisticRegression()\n",
    "LogisticRegressionModel = LogisticRegress.fit(X_trainScaled, Y_train)\n",
    "Y_pred = LogisticRegressionModel.predict(X_testScaled)\n",
    "print(\"Accuracy score: \",metrics.accuracy_score(Y_test, Y_pred))\n",
    "print(\"Confusion matrix: \",confusion_matrix(Y_test, Y_pred))\n",
    "\n",
    "print(\"\\nMultinomial Logistic Regression Classification\")\n",
    "LogisticRegressionML = LogisticRegression(multi_class='multinomial')\n",
    "LogisticRegressionMLModel = LogisticRegressionML.fit(X_trainScaled, Y_train)\n",
    "Y_pred = LogisticRegressionMLModel.predict(X_testScaled)\n",
    "print(\"Accuracy score: \",metrics.accuracy_score(Y_test, Y_pred))\n",
    "print(\"Confusion matrix: \",confusion_matrix(Y_test, Y_pred))\n",
    "\n",
    "print(\"\\nAdaBoost\")\n",
    "adaBoost = AdaBoostClassifier(random_state=0)\n",
    "adaBoostModel = adaBoost.fit(X_trainScaled, Y_train)\n",
    "Y_pred = adaBoostModel.predict(X_testScaled)\n",
    "print(\"Accuracy score: \",metrics.accuracy_score(Y_test, Y_pred))\n",
    "print(\"Confusion matrix: \",confusion_matrix(Y_test, Y_pred))\n",
    "\n",
    "print(\"\\nGradient Boosting\")\n",
    "gradientBoost = GradientBoostingClassifier(random_state=0)\n",
    "gradientBoostModel = gradientBoost.fit(X_trainScaled, Y_train)\n",
    "Y_pred = gradientBoostModel.predict(X_testScaled)\n",
    "print(\"Accuracy score: \",metrics.accuracy_score(Y_test, Y_pred))\n",
    "print(\"Confusion matrix: \",confusion_matrix(Y_test, Y_pred))\n",
    "\n",
    "print(\"\\nXGBoost\")\n",
    "XGboost = HistGradientBoostingClassifier(random_state=0)\n",
    "XGboostModel = XGboost.fit(X_trainScaled, Y_train)\n",
    "Y_pred = XGboostModel.predict(X_testScaled)\n",
    "print(\"Accuracy score: \",metrics.accuracy_score(Y_test, Y_pred))\n",
    "print(\"Confusion matrix: \",confusion_matrix(Y_test, Y_pred))\n",
    "\n",
    "print(\"\\nStacking\")\n",
    "\n",
    "\n",
    "estimators = [\n",
    "    ('rf', RandomForestClassifier(n_estimators=1, random_state=80)),\n",
    "    ('svr', make_pipeline(StandardScaler(),\n",
    "                          LinearSVC(random_state=80)))]\n",
    "\n",
    "stackCl = StackingClassifier(estimators=estimators, final_estimator = LogisticRegression())\n",
    "stackCl.fit(X_trainScaled,Y_train)\n",
    "Y_pred = stackCl.predict(X_testScaled)\n",
    "print(\"Accuracy score: \",metrics.accuracy_score(Y_test, Y_pred))\n",
    "print(\"Confusion matrix: \",confusion_matrix(Y_test, Y_pred))"
   ]
  },
  {
   "cell_type": "markdown",
   "metadata": {},
   "source": [
    "There are 3 models that outperform the k-nearest neighbour. This is Adaboost with <b>82.81%</b> accuracy, gradient boosting with  <b>83.21% </b> accuracy and XGboost with  <b>83,41% </b> accuracy"
   ]
  },
  {
   "cell_type": "code",
   "execution_count": null,
   "metadata": {},
   "outputs": [],
   "source": []
  },
  {
   "cell_type": "code",
   "execution_count": null,
   "metadata": {},
   "outputs": [],
   "source": []
  }
 ],
 "metadata": {
  "kernelspec": {
   "display_name": "Python 3",
   "language": "python",
   "name": "python3"
  },
  "language_info": {
   "codemirror_mode": {
    "name": "ipython",
    "version": 3
   },
   "file_extension": ".py",
   "mimetype": "text/x-python",
   "name": "python",
   "nbconvert_exporter": "python",
   "pygments_lexer": "ipython3",
   "version": "3.7.6"
  }
 },
 "nbformat": 4,
 "nbformat_minor": 4
}
